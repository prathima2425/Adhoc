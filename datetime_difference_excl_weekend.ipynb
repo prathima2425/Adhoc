{
  "nbformat": 4,
  "nbformat_minor": 0,
  "metadata": {
    "colab": {
      "name": "datetime_difference_excl_weekend.ipynb",
      "provenance": [],
      "collapsed_sections": [],
      "authorship_tag": "ABX9TyN1y1Mkn+VZNCnW10K5C0jn",
      "include_colab_link": true
    },
    "kernelspec": {
      "name": "python3",
      "display_name": "Python 3"
    }
  },
  "cells": [
    {
      "cell_type": "markdown",
      "metadata": {
        "id": "view-in-github",
        "colab_type": "text"
      },
      "source": [
        "<a href=\"https://colab.research.google.com/github/prathima2425/Adhoc/blob/main/datetime_difference_excl_weekend.ipynb\" target=\"_parent\"><img src=\"https://colab.research.google.com/assets/colab-badge.svg\" alt=\"Open In Colab\"/></a>"
      ]
    },
    {
      "cell_type": "code",
      "metadata": {
        "colab": {
          "base_uri": "https://localhost:8080/"
        },
        "id": "pI20m-chj2hu",
        "outputId": "72a20727-da31-47c0-efe4-02383aaaf357"
      },
      "source": [
        "pip install business-duration"
      ],
      "execution_count": 2,
      "outputs": [
        {
          "output_type": "stream",
          "text": [
            "Collecting business-duration\n",
            "  Downloading https://files.pythonhosted.org/packages/cc/0d/8ee281a1c5e62993f8db0ec4916d3f5adfc35429560edcd104dda545b743/business_duration-0.64.tar.gz\n",
            "Building wheels for collected packages: business-duration\n",
            "  Building wheel for business-duration (setup.py) ... \u001b[?25l\u001b[?25hdone\n",
            "  Created wheel for business-duration: filename=business_duration-0.64-cp36-none-any.whl size=3623 sha256=4c5dd79fa85b54960d8755219e217c32515780971f126eda590129b8ff4743ca\n",
            "  Stored in directory: /root/.cache/pip/wheels/75/dd/2d/55fa50a1eb3be6403637ca67d63eff4ea4e0c00d8172e59231\n",
            "Successfully built business-duration\n",
            "Installing collected packages: business-duration\n",
            "Successfully installed business-duration-0.64\n"
          ],
          "name": "stdout"
        }
      ]
    },
    {
      "cell_type": "code",
      "metadata": {
        "id": "EVFzGqqhjnc6"
      },
      "source": [
        "import pandas as pd\n",
        "from business_duration import businessDuration"
      ],
      "execution_count": 5,
      "outputs": []
    },
    {
      "cell_type": "code",
      "metadata": {
        "id": "xHF2uFV9j0Rn"
      },
      "source": [
        "def bussiness_days(startdate, enddate):\n",
        "  \n",
        "  startdate = pd.to_datetime(startdate)\n",
        "  enddate = pd.to_datetime(enddate)\n",
        "\n",
        "  #Business duration can be 'day', 'hour', 'min', 'sec'\n",
        "  unit = 'sec'\n",
        "\n",
        "  return businessDuration(startdate,enddate,unit=unit)/86400"
      ],
      "execution_count": 6,
      "outputs": []
    },
    {
      "cell_type": "code",
      "metadata": {
        "colab": {
          "base_uri": "https://localhost:8080/"
        },
        "id": "_2O4mvGXkGyB",
        "outputId": "bc06fdf9-324c-4da2-e047-3bb77ae17077"
      },
      "source": [
        "print(round(bussiness_days('2020-09-13 03:38:36.000', '2020-09-25 08:25:04.000'),2))"
      ],
      "execution_count": 7,
      "outputs": [
        {
          "output_type": "stream",
          "text": [
            "9.35\n"
          ],
          "name": "stdout"
        }
      ]
    },
    {
      "cell_type": "code",
      "metadata": {
        "colab": {
          "base_uri": "https://localhost:8080/"
        },
        "id": "EdZhA1J7kHDy",
        "outputId": "b2d8f658-abe6-4bf4-ae72-2d29756298ac"
      },
      "source": [
        "print(round(bussiness_days('2020-10-21 09:00:05.000', '2020-10-27 10:02:00.000'),2))"
      ],
      "execution_count": 8,
      "outputs": [
        {
          "output_type": "stream",
          "text": [
            "4.04\n"
          ],
          "name": "stdout"
        }
      ]
    },
    {
      "cell_type": "code",
      "metadata": {
        "colab": {
          "base_uri": "https://localhost:8080/"
        },
        "id": "Twnn-ep8kHOV",
        "outputId": "8bc9b9b2-e121-4b3d-8362-0386ed6679ed"
      },
      "source": [
        "print(round(bussiness_days('2020-10-28 07:48:05.000', '2020-11-04 17:46:06.000'),2))"
      ],
      "execution_count": 9,
      "outputs": [
        {
          "output_type": "stream",
          "text": [
            "5.42\n"
          ],
          "name": "stdout"
        }
      ]
    },
    {
      "cell_type": "code",
      "metadata": {
        "colab": {
          "base_uri": "https://localhost:8080/"
        },
        "id": "84IfFnL0kM6D",
        "outputId": "b8a85894-3792-4c63-f5d7-dddede6b4b5d"
      },
      "source": [
        "print(round(bussiness_days('2020-11-03 08:30:06.000', '2020-11-04 19:19:47.000'),2))"
      ],
      "execution_count": 10,
      "outputs": [
        {
          "output_type": "stream",
          "text": [
            "1.45\n"
          ],
          "name": "stdout"
        }
      ]
    }
  ]
}